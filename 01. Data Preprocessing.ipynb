{
 "cells": [
  {
   "cell_type": "code",
   "execution_count": 1,
   "id": "8f4c0d62-ad60-456e-a00f-584c2ec5f174",
   "metadata": {},
   "outputs": [],
   "source": [
    "import os\n",
    "import shutil\n",
    "import random\n",
    "import glob"
   ]
  },
  {
   "cell_type": "code",
   "execution_count": 2,
   "id": "a3c53034-efa4-452b-b148-0a8f4e187384",
   "metadata": {},
   "outputs": [],
   "source": [
    "# Set the path to the data folder\n",
    "data_folder = 'data/'\n",
    "\n",
    "# Create the train, test, and validation folders\n",
    "train_folder = 'train/'\n",
    "test_folder = 'test/'\n",
    "validation_folder = 'validation/'"
   ]
  },
  {
   "cell_type": "code",
   "execution_count": 3,
   "id": "209444bc-da72-4623-a2dd-94ae681d516f",
   "metadata": {},
   "outputs": [],
   "source": [
    "os.makedirs(train_folder, exist_ok=True)\n",
    "os.makedirs(test_folder, exist_ok=True)\n",
    "os.makedirs(validation_folder, exist_ok=True)\n",
    "\n",
    "# Get a list of subfolders inside the data folder\n",
    "subfolders = [f.path for f in os.scandir(data_folder) if f.is_dir()]"
   ]
  },
  {
   "cell_type": "code",
   "execution_count": 4,
   "id": "7f29d444-3bb6-45d4-95dc-1550847fb4c8",
   "metadata": {},
   "outputs": [],
   "source": [
    "# Loop through each subfolder and split the images\n",
    "for subfolder in subfolders:\n",
    "    # Get the name of the subfolder\n",
    "    subfolder_name = os.path.basename(subfolder)\n",
    "    \n",
    "    # Create the respective subfolders in train, test, and validation folders\n",
    "    os.makedirs(os.path.join(train_folder, subfolder_name), exist_ok=True)\n",
    "    os.makedirs(os.path.join(test_folder, subfolder_name), exist_ok=True)\n",
    "    os.makedirs(os.path.join(validation_folder, subfolder_name), exist_ok=True)\n",
    "    \n",
    "    # Get a list of image files in the subfolder\n",
    "    image_files = glob.glob(os.path.join(subfolder, '*.jpg')) + glob.glob(os.path.join(subfolder, '*.png'))\n",
    "    \n",
    "    # Shuffle the image files randomly\n",
    "    random.shuffle(image_files)\n",
    "    \n",
    "    # Calculate the number of images for each split\n",
    "    num_images = len(image_files)\n",
    "    train_split = int(0.7 * num_images)\n",
    "    test_split = int(0.2 * num_images)\n",
    "    validation_split = num_images - train_split - test_split\n",
    "    \n",
    "    # Split the images into train, test, and validation sets\n",
    "    train_images = image_files[:train_split]\n",
    "    test_images = image_files[train_split:train_split+test_split]\n",
    "    validation_images = image_files[train_split+test_split:]\n",
    "    \n",
    "    # Copy the train images to the train folder\n",
    "    for image in train_images:\n",
    "        shutil.copy(image, os.path.join(train_folder, subfolder_name))\n",
    "    \n",
    "    # Copy the test images to the test folder\n",
    "    for image in test_images:\n",
    "        shutil.copy(image, os.path.join(test_folder, subfolder_name))\n",
    "    \n",
    "    # Copy the validation images to the validation folder\n",
    "    for image in validation_images:\n",
    "        shutil.copy(image, os.path.join(validation_folder, subfolder_name))"
   ]
  },
  {
   "cell_type": "code",
   "execution_count": null,
   "id": "baf9142c-7691-495f-b0d0-7fbbe5be6df1",
   "metadata": {},
   "outputs": [],
   "source": []
  }
 ],
 "metadata": {
  "kernelspec": {
   "display_name": "thesisEnv",
   "language": "python",
   "name": "thesisenv"
  },
  "language_info": {
   "codemirror_mode": {
    "name": "ipython",
    "version": 3
   },
   "file_extension": ".py",
   "mimetype": "text/x-python",
   "name": "python",
   "nbconvert_exporter": "python",
   "pygments_lexer": "ipython3",
   "version": "3.10.9"
  }
 },
 "nbformat": 4,
 "nbformat_minor": 5
}
