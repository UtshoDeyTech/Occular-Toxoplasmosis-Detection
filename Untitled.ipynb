{
 "cells": [
  {
   "cell_type": "code",
   "execution_count": 1,
   "id": "a70c62c2-33a5-4b47-8bcb-c2f96da9ea81",
   "metadata": {},
   "outputs": [],
   "source": [
    "import os\n",
    "import shutil\n",
    "import pandas as pd"
   ]
  },
  {
   "cell_type": "code",
   "execution_count": 2,
   "id": "0d42a356-02ab-4a2d-acb4-e6e1ced6805d",
   "metadata": {},
   "outputs": [],
   "source": [
    "# Read the CSV file\n",
    "csv_file = 'dataset_labels.csv'\n",
    "df = pd.read_csv(csv_file)"
   ]
  },
  {
   "cell_type": "code",
   "execution_count": 3,
   "id": "fbb937bf-1c75-468d-9bf1-79fce480ad30",
   "metadata": {},
   "outputs": [],
   "source": [
    "# Replace 'active/inactive' with 'active_inactive'\n",
    "df['Label'] = df['Label'].replace('active/inactive', 'active_inactive')\n",
    "\n",
    "# Get unique labels\n",
    "unique_labels = df['Label'].unique()\n",
    "\n",
    "# Create the 'data' folder if it doesn't exist\n",
    "data_folder = 'data'\n",
    "if not os.path.exists(data_folder):\n",
    "    os.makedirs(data_folder)"
   ]
  },
  {
   "cell_type": "code",
   "execution_count": 4,
   "id": "a3788f99-0592-4081-8326-3f2062c64939",
   "metadata": {},
   "outputs": [],
   "source": [
    "# Create subfolders for each unique label\n",
    "for label in unique_labels:\n",
    "    label_folder = os.path.join(data_folder, label)\n",
    "    if not os.path.exists(label_folder):\n",
    "        os.makedirs(label_folder)"
   ]
  },
  {
   "cell_type": "code",
   "execution_count": 5,
   "id": "eda58044-940b-4898-8aed-282c824c0f12",
   "metadata": {},
   "outputs": [
    {
     "name": "stdout",
     "output_type": "stream",
     "text": [
      "Image file '2809.jpg' not found in the 'images' folder.\n"
     ]
    }
   ],
   "source": [
    "# Copy images to corresponding subfolders\n",
    "image_folder = 'images'\n",
    "for index, row in df.iterrows():\n",
    "    image_name = row['Image name']\n",
    "    label = row['Label']\n",
    "    source_path = os.path.join(image_folder, image_name)\n",
    "    destination_path = os.path.join(data_folder, label, image_name)\n",
    "\n",
    "    try:\n",
    "        shutil.copyfile(source_path, destination_path)\n",
    "    except FileNotFoundError:\n",
    "        print(f\"Image file '{image_name}' not found in the '{image_folder}' folder.\")"
   ]
  },
  {
   "cell_type": "code",
   "execution_count": 9,
   "id": "d9279c34-be20-445c-851b-c5db1f62be9b",
   "metadata": {},
   "outputs": [],
   "source": [
    "import os\n",
    "import uuid\n",
    "\n",
    "# Specify the parent folder path\n",
    "parent_folder = 'data'\n",
    "\n",
    "# Iterate through subfolders\n",
    "for folder_name in os.listdir(parent_folder):\n",
    "    folder_path = os.path.join(parent_folder, folder_name)\n",
    "    \n",
    "    # Check if the path is a directory\n",
    "    if os.path.isdir(folder_path):\n",
    "        # Iterate through files in the subfolder\n",
    "        for file_name in os.listdir(folder_path):\n",
    "            file_path = os.path.join(folder_path, file_name)\n",
    "            \n",
    "            # Check if the path is a file\n",
    "            if os.path.isfile(file_path):\n",
    "                # Generate a new file name using UUID\n",
    "                new_file_name = str(uuid.uuid4()) + os.path.splitext(file_name)[1]\n",
    "                \n",
    "                # Create the new file path with the renamed file\n",
    "                new_file_path = os.path.join(folder_path, new_file_name)\n",
    "                \n",
    "                # Rename the file\n",
    "                os.rename(file_path, new_file_path)\n"
   ]
  },
  {
   "cell_type": "code",
   "execution_count": 10,
   "id": "776fee5f-9900-423b-b604-a8fda3ff2f75",
   "metadata": {},
   "outputs": [
    {
     "name": "stdout",
     "output_type": "stream",
     "text": [
      "Subfolder: active, Image count: 68\n",
      "Subfolder: active_inactive, Image count: 126\n",
      "Subfolder: healthy, Image count: 291\n",
      "Subfolder: inactive, Image count: 375\n"
     ]
    }
   ],
   "source": [
    "# Iterate through subfolders\n",
    "for folder_name in os.listdir(parent_folder):\n",
    "    folder_path = os.path.join(parent_folder, folder_name)\n",
    "    \n",
    "    # Check if the path is a directory\n",
    "    if os.path.isdir(folder_path):\n",
    "        # Count the number of images in the subfolder\n",
    "        image_count = sum([1 for file_name in os.listdir(folder_path) if os.path.isfile(os.path.join(folder_path, file_name))])\n",
    "        \n",
    "        print(f\"Subfolder: {folder_name}, Image count: {image_count}\")"
   ]
  },
  {
   "cell_type": "code",
   "execution_count": null,
   "id": "d438e980-a6a9-4abf-ad63-30f6cb915c80",
   "metadata": {},
   "outputs": [],
   "source": []
  }
 ],
 "metadata": {
  "kernelspec": {
   "display_name": "helpThesis",
   "language": "python",
   "name": "helpthesis"
  },
  "language_info": {
   "codemirror_mode": {
    "name": "ipython",
    "version": 3
   },
   "file_extension": ".py",
   "mimetype": "text/x-python",
   "name": "python",
   "nbconvert_exporter": "python",
   "pygments_lexer": "ipython3",
   "version": "3.10.9"
  }
 },
 "nbformat": 4,
 "nbformat_minor": 5
}
